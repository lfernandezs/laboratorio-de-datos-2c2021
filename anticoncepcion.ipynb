{
  "nbformat": 4,
  "nbformat_minor": 0,
  "metadata": {
    "colab": {
      "name": "anticoncepcion_final.ipynb",
      "provenance": [],
      "collapsed_sections": []
    },
    "kernelspec": {
      "name": "python3",
      "display_name": "Python 3"
    },
    "language_info": {
      "name": "python"
    }
  },
  "cells": [
    {
      "cell_type": "markdown",
      "metadata": {
        "id": "sxKrhqgYNRhA"
      },
      "source": [
        "# Consigna\n",
        "El objetivo de la segunda ejercitación obligatoria es predecir el uso de anticoncepción en base a datos demográficos. \n",
        "\n",
        "Ustedes van a bajar los datos, entrenar un modelo basado en regresión logística, optimizarlo, etc., usando las herramientas que vimos en la clase.\n",
        "\n",
        "Luego, les vamos a pasar datos sin etiquetas y ustedes estimarán la probabilidad de que la etiqueta sea positiva (uso de anticoncepción). \n",
        "\n",
        "Finalmente, nosotros usaremos esa información para calcular un AUC y rankearlos de acuerdo a la performance de sus modelos."
      ]
    },
    {
      "cell_type": "markdown",
      "metadata": {
        "id": "ts5EIhxUO6P_"
      },
      "source": [
        "Módulos"
      ]
    },
    {
      "cell_type": "code",
      "metadata": {
        "id": "GtrRtQwPOZ-j"
      },
      "source": [
        "import pandas as pd\n",
        "import numpy as np\n",
        "from google.colab import drive"
      ],
      "execution_count": null,
      "outputs": []
    },
    {
      "cell_type": "code",
      "metadata": {
        "id": "GvPI0cqePIOf"
      },
      "source": [
        "from sklearn.preprocessing import PolynomialFeatures\n",
        "from sklearn.model_selection import train_test_split\n",
        "from sklearn.preprocessing import MinMaxScaler\n",
        "from sklearn.linear_model import LogisticRegression\n",
        "from sklearn.metrics import roc_curve\n",
        "from sklearn.metrics import roc_auc_score\n",
        "from sklearn.model_selection import StratifiedKFold"
      ],
      "execution_count": null,
      "outputs": []
    },
    {
      "cell_type": "markdown",
      "metadata": {
        "id": "qCi0NXmLuGkX"
      },
      "source": [
        "Cargo el dataset"
      ]
    },
    {
      "cell_type": "code",
      "metadata": {
        "id": "YJIHdj_zPIsy",
        "colab": {
          "base_uri": "https://localhost:8080/"
        },
        "outputId": "24b34f3c-483d-4979-e67a-ccb391c711e7"
      },
      "source": [
        "drive.mount('/content/drive')\n",
        "filename = '/content/drive/My Drive/anticoncepcion_indonesia.csv'\n",
        "df = pd.read_csv(filename)"
      ],
      "execution_count": null,
      "outputs": [
        {
          "output_type": "stream",
          "text": [
            "Mounted at /content/drive\n"
          ],
          "name": "stdout"
        }
      ]
    },
    {
      "cell_type": "code",
      "metadata": {
        "id": "96AErCUkPZ2q"
      },
      "source": [
        "# Categorías binarias ocupacion_hombre\n",
        "df = pd.get_dummies(df, drop_first=True, columns=['ocupacion_hombre'])\n",
        "\n",
        "# Categorías binarias metodo_anticonceptivo: si o no.\n",
        "df['anticonceptivo'] = 0\n",
        "df.loc[df['metodo_anticonceptivo'] > 1, 'anticonceptivo'] = 1\n",
        "\n",
        "# Tiene hijos\n",
        "df['tiene_hijos'] = 0\n",
        "df.loc[df['numero_hijos'] > 0, 'tiene_hijos'] = 1"
      ],
      "execution_count": null,
      "outputs": []
    },
    {
      "cell_type": "markdown",
      "metadata": {
        "id": "LAbSlvFSTnf0"
      },
      "source": [
        "¿Qué grado $n$ y qué penalizador $C$ debo elegir?"
      ]
    },
    {
      "cell_type": "code",
      "metadata": {
        "id": "nOo6LNQ4TQB7"
      },
      "source": [
        "def classifier(X, y, n, c):\n",
        "  X_temp = X\n",
        "  for i in np.arange(2,n):\n",
        "    X_temp = np.concatenate((X_temp,X**i), axis=1)\n",
        "  X = X_temp\n",
        "  \n",
        "  # X = PolynomialFeatures(degree=n).fit_transform(X)\n",
        "  X_train, X_test, y_train, y_test = train_test_split(X, y, test_size=0.3)\n",
        "  \n",
        "  scaler = MinMaxScaler()\n",
        "  scaler.fit(X_train)\n",
        "  X_train = scaler.transform(X_train)\n",
        "\n",
        "  scaler = MinMaxScaler()\n",
        "  scaler.fit(X_test)\n",
        "  X_test = scaler.transform(X_test)\n",
        "\n",
        "  reg = LogisticRegression(penalty='l2', class_weight='balanced', C=c, max_iter=10000)\n",
        "  reg.fit(X_train, y_train)\n",
        "\n",
        "  auc_train = roc_auc_score(y_train, reg.predict_proba(X_train)[:,1])\n",
        "  auc_test = roc_auc_score(y_test, reg.predict_proba(X_test)[:,1])\n",
        "\n",
        "  return auc_train, auc_test"
      ],
      "execution_count": null,
      "outputs": []
    },
    {
      "cell_type": "code",
      "metadata": {
        "id": "s3lsN1s4O3O8"
      },
      "source": [
        "campos = ['edad_mujer', 'educacion_mujer', 'educacion_hombre', 'numero_hijos', 'religion_mujer', 'mujer_trabaja', 'ocupacion_hombre_2', 'ocupacion_hombre_3', 'ocupacion_hombre_4', 'nivel_vida', 'exposicion_medios', 'tiene_hijos']\n",
        "X = df[campos].values\n",
        "y = df['anticonceptivo'].values"
      ],
      "execution_count": null,
      "outputs": []
    },
    {
      "cell_type": "code",
      "metadata": {
        "id": "9Brk_7OJVkNA"
      },
      "source": [
        "iterations = 400\n",
        "n_values = np.arange(1,5)\n",
        "c_values = np.arange(0.2, 60, 2)\n",
        "\n",
        "mean_auc_train = np.zeros((len(n_values), len(c_values)))\n",
        "mean_auc_test = np.zeros((len(n_values), len(c_values)))\n",
        "\n",
        "for xx,n in enumerate(n_values):\n",
        "  for yy,c in enumerate(c_values):\n",
        "    print([n,c])\n",
        "    auc_train_temp = []\n",
        "    auc_test_temp = []\n",
        "    for it in np.arange(iterations):\n",
        "      auc_train, auc_test = classifier(X, y, n, c)\n",
        "      auc_train_temp.append(auc_train)\n",
        "      auc_test_temp.append(auc_test)\n",
        "    mean_auc_train[xx, yy] = np.mean(auc_train_temp)\n",
        "    mean_auc_test[xx, yy] = np.mean(auc_test_temp)"
      ],
      "execution_count": null,
      "outputs": []
    },
    {
      "cell_type": "code",
      "metadata": {
        "id": "z6Blf0knXD8o"
      },
      "source": [
        "import matplotlib.pyplot as plt\n",
        "\n",
        "c_values = [round(elem, 2) for elem in c_values]\n",
        "\n",
        "fig, ax = plt.subplots(1,1, figsize=(15,15))  # visualizacion train set\n",
        "img = ax.imshow(mean_auc_train) # graficamos la matriz\n",
        "y_label_list = n_values # estos son los ticks de los ejes\n",
        "x_label_list = c_values\n",
        "ax.set_xticks(np.arange(len(c_values))) # creo los ticks de los ejes\n",
        "ax.set_yticks(np.arange(len(n_values)))\n",
        "ax.set_yticklabels(y_label_list) # pongo los ticks de los ejes\n",
        "ax.set_xticklabels(x_label_list)\n",
        "plt.xlabel('C (constante de regularizacion)', fontsize=15) # le pongo nombre a ejes y titulo \n",
        "plt.ylabel('n (potencia maxima para elevar)', fontsize=15)\n",
        "plt.title('AUC (train set)', fontsize=20)\n",
        "fig.colorbar(img, orientation=\"horizontal\", pad=0.2) # la barra de colores donde no me moleste\n",
        "\n",
        "fig, ax = plt.subplots(1,1, figsize=(15,15)) # visualizacion test set, ver comentarios para el caso train, es idéntico\n",
        "img = ax.imshow(mean_auc_test)\n",
        "y_label_list = n_values\n",
        "x_label_list = c_values\n",
        "ax.set_xticks(np.arange(len(c_values)))\n",
        "ax.set_yticks(np.arange(len(n_values)))\n",
        "ax.set_yticklabels(y_label_list)\n",
        "ax.set_xticklabels(x_label_list)\n",
        "plt.xlabel('C (constante de regularizacion)', fontsize=15)\n",
        "plt.ylabel('n (potencia maxima para elevar)', fontsize=15)\n",
        "plt.title('AUC (test set)', fontsize=20)\n",
        "fig.colorbar(img, orientation=\"horizontal\", pad=0.2)"
      ],
      "execution_count": null,
      "outputs": []
    },
    {
      "cell_type": "markdown",
      "metadata": {
        "id": "jtwOsQtKXnWS"
      },
      "source": [
        "De acá obtengo el $n$ y el $C$ que mejor predicen."
      ]
    },
    {
      "cell_type": "markdown",
      "metadata": {
        "id": "NJxNXc-TXv8P"
      },
      "source": [
        "Ahora tengo que buscar el set de train que más información me da. Para eso uso **validación cruzada estratificada**."
      ]
    },
    {
      "cell_type": "code",
      "metadata": {
        "id": "BUj1w80VX4yh",
        "colab": {
          "base_uri": "https://localhost:8080/"
        },
        "outputId": "75bafd64-a091-4848-f635-f87c09e181a7"
      },
      "source": [
        "n = 3\n",
        "c = 56.37\n",
        "\n",
        "campos = ['edad_mujer', 'educacion_mujer', 'educacion_hombre', 'numero_hijos', 'religion_mujer', 'mujer_trabaja', 'ocupacion_hombre_2', 'ocupacion_hombre_3', 'ocupacion_hombre_4', 'nivel_vida', 'exposicion_medios', 'tiene_hijos']\n",
        "X = df[campos].values\n",
        "y = df['anticonceptivo'].values\n",
        "\n",
        "\n",
        "X_temp = X\n",
        "for i in np.arange(2,n):\n",
        "  X_temp = np.concatenate((X_temp,X**i), axis=1)\n",
        "X = X_temp\n",
        "\n",
        "skf = StratifiedKFold(n_splits=5, shuffle=True)\n",
        "skf.get_n_splits(X, y)\n",
        "\n",
        "auc_values = []\n",
        "indices = []\n",
        "\n",
        "for train_index, test_index in skf.split(X, y):\n",
        "    X_train, X_test = X[train_index], X[test_index]\n",
        "    y_train, y_test = y[train_index], y[test_index]\n",
        "\n",
        "    reg = LogisticRegression(penalty = 'l2', class_weight='balanced', C=c, max_iter=10000)\n",
        "    reg.fit(X_train, y_train)\n",
        "\n",
        "    probas_test = reg.predict_proba(X_test)\n",
        "    auc_test = roc_auc_score(y_test, probas_test[:,1])\n",
        "\n",
        "    auc_values.append(auc_test)\n",
        "    indices.append(test_index)\n",
        "\n",
        "print(auc_values)\n",
        "print(np.mean(auc_values))"
      ],
      "execution_count": null,
      "outputs": [
        {
          "output_type": "stream",
          "text": [
            "[0.7115600448933783, 0.6958041958041958, 0.747086247086247, 0.7412587412587412, 0.7803030303030303]\n",
            "0.7352024518691185\n"
          ],
          "name": "stdout"
        }
      ]
    },
    {
      "cell_type": "markdown",
      "metadata": {
        "id": "pkEYvSbugpxQ"
      },
      "source": [
        "# Modelo final"
      ]
    },
    {
      "cell_type": "code",
      "metadata": {
        "id": "TEO5Uskqghtw",
        "colab": {
          "base_uri": "https://localhost:8080/"
        },
        "outputId": "2c7a8234-9b30-48f0-c618-06ef751dad87"
      },
      "source": [
        "n = 3\n",
        "c = 56.37\n",
        "\n",
        "campos = ['edad_mujer', 'educacion_mujer', 'educacion_hombre', 'numero_hijos', 'religion_mujer', 'mujer_trabaja', 'ocupacion_hombre_2', 'ocupacion_hombre_3', 'ocupacion_hombre_4', 'nivel_vida', 'exposicion_medios', 'tiene_hijos']\n",
        "X = df[campos].values\n",
        "y = df['anticonceptivo'].values\n",
        "\n",
        "X_temp = X\n",
        "for i in np.arange(2,n):\n",
        "  X_temp = np.concatenate((X_temp,X**i), axis=1)\n",
        "X = X_temp\n",
        "\n",
        "scaler = MinMaxScaler()\n",
        "scaler.fit(X)\n",
        "X = scaler.transform(X)\n",
        "\n",
        "reg = LogisticRegression(penalty = 'l2', class_weight='balanced', C=c, max_iter=10000)\n",
        "reg.fit(X, y)"
      ],
      "execution_count": null,
      "outputs": [
        {
          "output_type": "execute_result",
          "data": {
            "text/plain": [
              "LogisticRegression(C=56.37, class_weight='balanced', dual=False,\n",
              "                   fit_intercept=True, intercept_scaling=1, l1_ratio=None,\n",
              "                   max_iter=10000, multi_class='auto', n_jobs=None,\n",
              "                   penalty='l2', random_state=None, solver='lbfgs', tol=0.0001,\n",
              "                   verbose=0, warm_start=False)"
            ]
          },
          "metadata": {
            "tags": []
          },
          "execution_count": 9
        }
      ]
    },
    {
      "cell_type": "code",
      "metadata": {
        "id": "el_HGEge7S6k"
      },
      "source": [
        "X_test = np.array([20, 3, 3, 0, 0, 0, 0, 0, 0, 3, 1, 0]).reshape(1,-1)\n",
        "temp = X_test\n",
        "for i in np.arange(2, n):\n",
        "  temp = np.concatenate((temp, temp**i), axis=1)\n",
        "X_test = temp\n",
        "\n",
        "X_test = scaler.transform(X_test)"
      ],
      "execution_count": null,
      "outputs": []
    },
    {
      "cell_type": "code",
      "metadata": {
        "colab": {
          "base_uri": "https://localhost:8080/"
        },
        "id": "4qMgO95f8a5a",
        "outputId": "c73544de-caea-49cf-8396-45cc7ff980f7"
      },
      "source": [
        "reg.predict_proba(X_test)"
      ],
      "execution_count": null,
      "outputs": [
        {
          "output_type": "execute_result",
          "data": {
            "text/plain": [
              "array([[0.99879749, 0.00120251]])"
            ]
          },
          "metadata": {
            "tags": []
          },
          "execution_count": 11
        }
      ]
    },
    {
      "cell_type": "code",
      "metadata": {
        "id": "ZUFez4JCxIIq"
      },
      "source": [
        "path = '/content/drive/My Drive/LaboDatos2021/anticoncepcion_indonesia_test.csv'\n",
        "df_test = pd.read_csv(path)\n",
        "df_test = pd.get_dummies(df_test, drop_first=True, columns=['ocupacion_hombre'])\n",
        "\n",
        "campos = ['edad_mujer', 'educacion_mujer', 'educacion_hombre', 'numero_hijos','religion_mujer', 'mujer_trabaja', 'ocupacion_hombre_2', 'ocupacion_hombre_3', 'ocupacion_hombre_4', 'nivel_vida', 'exposicion_medios']\n",
        "X_test = np.array(df_test[campos])\n",
        "\n",
        "X_temp = X_test\n",
        "for i in np.arange(2,n):\n",
        "  X_temp = np.concatenate((X_temp, X_temp**i), axis=1)\n",
        "X_test = X_temp\n",
        "\n",
        "scaler = MinMaxScaler()\n",
        "scaler.fit(X_test)\n",
        "X_test = scaler.transform(X_test)\n",
        "\n",
        "clf = LogisticRegression(penalty='l2', class_weight='balanced', C=c, max_iter=10000)\n",
        "clf.fit(X,y)\n",
        "probas = clf.predict_proba(X_test)\n",
        "print(probas)"
      ],
      "execution_count": null,
      "outputs": []
    },
    {
      "cell_type": "code",
      "metadata": {
        "id": "Uoiz4l4lydPk"
      },
      "source": [
        "save_path= '/content/drive/My Drive/Fernandez_Spandau_Luciana'\n",
        "np.savetxt(save_path, probas, delimiter=\",\")"
      ],
      "execution_count": null,
      "outputs": []
    },
    {
      "cell_type": "markdown",
      "metadata": {
        "id": "yAxtzC04NwjS"
      },
      "source": [
        "# Resultados\n",
        "AUC: 0,72346824707.  \n",
        "Una columna extra que contenga la información binaria acerca de si la mujer tiene hijos o no, hubiera mejorado el resultado."
      ]
    }
  ]
}